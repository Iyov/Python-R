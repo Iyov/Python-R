{
 "metadata": {
  "language_info": {
   "codemirror_mode": {
    "name": "ipython",
    "version": 3
   },
   "file_extension": ".py",
   "mimetype": "text/x-python",
   "name": "python",
   "nbconvert_exporter": "python",
   "pygments_lexer": "ipython3",
   "version": "3.9.2-final"
  },
  "orig_nbformat": 2,
  "kernelspec": {
   "name": "python3",
   "display_name": "Python 3.9.2 64-bit",
   "metadata": {
    "interpreter": {
     "hash": "74370f5c003b891a364185c017133575b60922bef3ec5886167c351f100e6443"
    }
   }
  }
 },
 "nbformat": 4,
 "nbformat_minor": 2,
 "cells": [
  {
   "source": [
    "# Listas\n",
    "Son contenedores que permiten almacenar una colección de objetos en un orden determinado. Se pueden acceder, añadir o eliminar objetos de forma sencilla"
   ],
   "cell_type": "markdown",
   "metadata": {}
  },
  {
   "cell_type": "code",
   "execution_count": 64,
   "metadata": {},
   "outputs": [],
   "source": [
    "L1 = [] #Lista vacía"
   ]
  },
  {
   "cell_type": "code",
   "execution_count": 65,
   "metadata": {},
   "outputs": [],
   "source": [
    "L2 = ['a','e','i','o','u'] #Lista con vocales"
   ]
  },
  {
   "cell_type": "code",
   "execution_count": 66,
   "metadata": {},
   "outputs": [],
   "source": [
    "L3 = [1,2,3,4,5,6]  # Lista de enteros"
   ]
  },
  {
   "cell_type": "code",
   "execution_count": 67,
   "metadata": {},
   "outputs": [],
   "source": [
    "L4 = ['a', 5, True, \"String\"] #Lista con varios tipos"
   ]
  },
  {
   "cell_type": "code",
   "execution_count": 68,
   "metadata": {},
   "outputs": [
    {
     "output_type": "stream",
     "name": "stdout",
     "text": [
      "[0, 0, 0, 0, 0, 0, 0, 0, 0, 0]\n"
     ]
    }
   ],
   "source": [
    "L5 = [0]*10     # Lista de 10 ceros\n",
    "print(L5)"
   ]
  },
  {
   "cell_type": "code",
   "execution_count": 69,
   "metadata": {},
   "outputs": [
    {
     "output_type": "execute_result",
     "data": {
      "text/plain": [
       "'a'"
      ]
     },
     "metadata": {},
     "execution_count": 69
    }
   ],
   "source": [
    "L4[0] # Primera posición de la L4, comienzan en 0"
   ]
  },
  {
   "cell_type": "code",
   "execution_count": 70,
   "metadata": {},
   "outputs": [
    {
     "output_type": "stream",
     "name": "stdout",
     "text": [
      "[0, 0, 0, 0, 3.14, 0, 0, 0, 0, 0]\n"
     ]
    }
   ],
   "source": [
    "L5[4] = 3.14    #Modificación del valor en posición 5 de L5\n",
    "print(L5)"
   ]
  },
  {
   "cell_type": "code",
   "execution_count": 71,
   "metadata": {},
   "outputs": [
    {
     "output_type": "execute_result",
     "data": {
      "text/plain": [
       "['a', 5, True]"
      ]
     },
     "metadata": {},
     "execution_count": 71
    }
   ],
   "source": [
    "L4[0:3]    # Accesos de posiciones múltiples (incluye la primera, no la última) pos[0-2]"
   ]
  },
  {
   "cell_type": "code",
   "execution_count": 72,
   "metadata": {},
   "outputs": [
    {
     "output_type": "stream",
     "name": "stdout",
     "text": [
      "[0, 4, 5, 6, 3.14, 0, 0, 0, 0, 0]\n"
     ]
    }
   ],
   "source": [
    "L5[1:4] = [4,5,6]   # Agrega en pos 1,2,3 de L5 los valores 4,5,6\n",
    "print(L5)"
   ]
  },
  {
   "cell_type": "code",
   "execution_count": 73,
   "metadata": {},
   "outputs": [
    {
     "output_type": "stream",
     "name": "stdout",
     "text": [
      "[0, 4, 5, 6, 3.14, 0, 0, 0, 0, 0, 8]\n"
     ]
    }
   ],
   "source": [
    "L5.append(8)    # Agrega el 8 al último de la lista\n",
    "print(L5)"
   ]
  },
  {
   "cell_type": "code",
   "execution_count": 74,
   "metadata": {},
   "outputs": [
    {
     "output_type": "stream",
     "name": "stdout",
     "text": [
      "[0, 5, 6, 3.14, 0, 0, 0, 0, 0, 8]\n"
     ]
    }
   ],
   "source": [
    "L5.remove(4) #Elimina la primera ocurrencia del objeto 4 de la lista\n",
    "print(L5)"
   ]
  },
  {
   "cell_type": "code",
   "execution_count": 75,
   "metadata": {},
   "outputs": [
    {
     "output_type": "stream",
     "name": "stdout",
     "text": [
      "[8, 0, 0, 0, 0, 0, 3.14, 6, 5, 0]\n"
     ]
    }
   ],
   "source": [
    "L5.reverse() #Da vuelta o invierte la lista\n",
    "print(L5)"
   ]
  },
  {
   "cell_type": "code",
   "execution_count": 76,
   "metadata": {},
   "outputs": [
    {
     "output_type": "execute_result",
     "data": {
      "text/plain": [
       "6"
      ]
     },
     "metadata": {},
     "execution_count": 76
    }
   ],
   "source": [
    "L5.count(0) #Cuenta cuentos ceros"
   ]
  },
  {
   "cell_type": "code",
   "execution_count": 77,
   "metadata": {},
   "outputs": [
    {
     "output_type": "execute_result",
     "data": {
      "text/plain": [
       "6"
      ]
     },
     "metadata": {},
     "execution_count": 77
    }
   ],
   "source": [
    "L5.index(3.14) #En que posicion se encuentra el número"
   ]
  },
  {
   "cell_type": "code",
   "execution_count": 78,
   "metadata": {},
   "outputs": [
    {
     "output_type": "execute_result",
     "data": {
      "text/plain": [
       "10"
      ]
     },
     "metadata": {},
     "execution_count": 78
    }
   ],
   "source": [
    "len(L5)     # Largo de la lista"
   ]
  },
  {
   "cell_type": "code",
   "execution_count": 79,
   "metadata": {},
   "outputs": [],
   "source": [
    "L = [1,2,3,4,5,6]"
   ]
  },
  {
   "cell_type": "code",
   "execution_count": 80,
   "metadata": {},
   "outputs": [
    {
     "output_type": "execute_result",
     "data": {
      "text/plain": [
       "[2, 4, 6]"
      ]
     },
     "metadata": {},
     "execution_count": 80
    }
   ],
   "source": [
    "L[1::2] # Desde la posición 1, de dos en dos, retorna pares"
   ]
  },
  {
   "cell_type": "code",
   "execution_count": 81,
   "metadata": {},
   "outputs": [
    {
     "output_type": "execute_result",
     "data": {
      "text/plain": [
       "[1, 3, 5]"
      ]
     },
     "metadata": {},
     "execution_count": 81
    }
   ],
   "source": [
    "L[::2] # Desde la posición 0, de dos en dos, impares"
   ]
  },
  {
   "cell_type": "code",
   "execution_count": 82,
   "metadata": {},
   "outputs": [
    {
     "output_type": "execute_result",
     "data": {
      "text/plain": [
       "6"
      ]
     },
     "metadata": {},
     "execution_count": 82
    }
   ],
   "source": [
    "L[-1] # El último elemento de la lista"
   ]
  },
  {
   "cell_type": "code",
   "execution_count": 83,
   "metadata": {},
   "outputs": [
    {
     "output_type": "execute_result",
     "data": {
      "text/plain": [
       "False"
      ]
     },
     "metadata": {},
     "execution_count": 83
    }
   ],
   "source": [
    "8 in L  # 8 está en lista \"L\"? falso"
   ]
  },
  {
   "cell_type": "code",
   "execution_count": 84,
   "metadata": {},
   "outputs": [
    {
     "output_type": "execute_result",
     "data": {
      "text/plain": [
       "True"
      ]
     },
     "metadata": {},
     "execution_count": 84
    }
   ],
   "source": [
    "4 in L  # 4 está en lista \"L\"? verdadero"
   ]
  },
  {
   "source": [
    "# Ciclos o bucles\n",
    "Los ciclos **for** iteran sobre una colección (lista, string, objeto iterable)"
   ],
   "cell_type": "markdown",
   "metadata": {}
  },
  {
   "cell_type": "code",
   "execution_count": 85,
   "metadata": {},
   "outputs": [
    {
     "output_type": "stream",
     "name": "stdout",
     "text": [
      "1\n2\n3\n4\n5\n6\n"
     ]
    }
   ],
   "source": [
    "for numero in L:    #recorre lista \"L\"\n",
    "    print(numero)"
   ]
  },
  {
   "cell_type": "code",
   "execution_count": 86,
   "metadata": {},
   "outputs": [
    {
     "output_type": "stream",
     "name": "stdout",
     "text": [
      "0\n1\n2\n3\n4\n"
     ]
    }
   ],
   "source": [
    "for x in range(0,5):   # genera lista del 0 al 9 => es igual a range(5)\n",
    "    print(x)            # por defecto es uno, pero 3er parametro es el X veces"
   ]
  },
  {
   "cell_type": "code",
   "execution_count": 87,
   "metadata": {},
   "outputs": [
    {
     "output_type": "stream",
     "name": "stdout",
     "text": [
      "T\ne\nx\nt\no\n"
     ]
    }
   ],
   "source": [
    "for c in \"Texto\": print(c)"
   ]
  },
  {
   "cell_type": "code",
   "execution_count": 88,
   "metadata": {},
   "outputs": [
    {
     "output_type": "stream",
     "name": "stdout",
     "text": [
      "Promedio es: 6.34\n"
     ]
    }
   ],
   "source": [
    "notas = [3.5, 6.7, 8, 9, 4.5]\n",
    "suma = 0\n",
    "for nota in notas:\n",
    "    suma += nota\n",
    "print( \"Promedio es: \"+str(suma/len(notas)) )"
   ]
  },
  {
   "source": [
    "El ciclo **while** se repite hasta que la consición booleana deja de ser cierta"
   ],
   "cell_type": "markdown",
   "metadata": {}
  },
  {
   "cell_type": "code",
   "execution_count": 89,
   "metadata": {},
   "outputs": [
    {
     "output_type": "stream",
     "name": "stdout",
     "text": [
      "0\n1\n2\n3\n"
     ]
    }
   ],
   "source": [
    "count = 0\n",
    "while count < 4:    # Ciclo hasta 4\n",
    "    print(count)\n",
    "    count += 1"
   ]
  },
  {
   "cell_type": "code",
   "execution_count": 90,
   "metadata": {},
   "outputs": [
    {
     "output_type": "stream",
     "name": "stdout",
     "text": [
      "0 2\n1 3\n2 5\n3 7\n4 11\n5 13\n6 17\n"
     ]
    }
   ],
   "source": [
    "primos = [2,3,5,7,11,13,17]         # Obtiene la posición y el valor de la lista\n",
    "for idx, p in enumerate(primos): print(idx, p)"
   ]
  },
  {
   "cell_type": "code",
   "execution_count": 91,
   "metadata": {},
   "outputs": [
    {
     "output_type": "stream",
     "name": "stdout",
     "text": [
      "0 2\n1 3\n2 5\n3 7\n4 11\n5 13\n6 17\n"
     ]
    }
   ],
   "source": [
    "for idx in range(len(primos)):\n",
    "    print(idx, primos[idx])"
   ]
  },
  {
   "source": [
    "# Tupla\n",
    "Una tupla es una colección de onjetos que no puede modificarse (tiene tamaño y contenido fijo)"
   ],
   "cell_type": "markdown",
   "metadata": {}
  },
  {
   "cell_type": "code",
   "execution_count": 92,
   "metadata": {},
   "outputs": [
    {
     "output_type": "execute_result",
     "data": {
      "text/plain": [
       "(1,)"
      ]
     },
     "metadata": {},
     "execution_count": 92
    }
   ],
   "source": [
    "p1 = (1,)   # Tupla con 2 valores\n",
    "p1"
   ]
  },
  {
   "cell_type": "code",
   "execution_count": 93,
   "metadata": {},
   "outputs": [
    {
     "output_type": "execute_result",
     "data": {
      "text/plain": [
       "(1, 2, 3, 4)"
      ]
     },
     "metadata": {},
     "execution_count": 93
    }
   ],
   "source": [
    "p2 = (1,2,3,4)   # Tupla con 4 valores [1-4]\n",
    "p2"
   ]
  },
  {
   "cell_type": "code",
   "execution_count": 94,
   "metadata": {},
   "outputs": [
    {
     "output_type": "execute_result",
     "data": {
      "text/plain": [
       "(1, 2, 'c', 3.14)"
      ]
     },
     "metadata": {},
     "execution_count": 94
    }
   ],
   "source": [
    "p3 = (1,2,'c',3.14)     # Tupla variable\n",
    "p3"
   ]
  },
  {
   "cell_type": "code",
   "execution_count": 95,
   "metadata": {},
   "outputs": [
    {
     "output_type": "execute_result",
     "data": {
      "text/plain": [
       "1"
      ]
     },
     "metadata": {},
     "execution_count": 95
    }
   ],
   "source": [
    "p3[0]       # Primer elemento de la tupla"
   ]
  },
  {
   "cell_type": "code",
   "execution_count": 96,
   "metadata": {},
   "outputs": [
    {
     "output_type": "execute_result",
     "data": {
      "text/plain": [
       "(1, 2)"
      ]
     },
     "metadata": {},
     "execution_count": 96
    }
   ],
   "source": [
    "p3[0:2]     # 1er y 2do elemento de la lista"
   ]
  },
  {
   "cell_type": "code",
   "execution_count": 97,
   "metadata": {},
   "outputs": [
    {
     "output_type": "stream",
     "name": "stdout",
     "text": [
      "1 2 c 3.14\n"
     ]
    }
   ],
   "source": [
    "a,b,c,d = p3        # Pasa cada valor de la tupla en las variables a,b,c,d\n",
    "print(a,b,c,d)"
   ]
  },
  {
   "cell_type": "code",
   "execution_count": 98,
   "metadata": {},
   "outputs": [
    {
     "output_type": "execute_result",
     "data": {
      "text/plain": [
       "[1, 2, 'c', 3.14]"
      ]
     },
     "metadata": {},
     "execution_count": 98
    }
   ],
   "source": [
    "lista3 = list(p3)   # Transforma la tupla en lista\n",
    "lista3"
   ]
  },
  {
   "cell_type": "code",
   "execution_count": 99,
   "metadata": {},
   "outputs": [
    {
     "output_type": "execute_result",
     "data": {
      "text/plain": [
       "(8, 0, 0, 0, 0, 0, 3.14, 6, 5, 0)"
      ]
     },
     "metadata": {},
     "execution_count": 99
    }
   ],
   "source": [
    "p5 = tuple(L5)   # Transforma la lista en tupla\n",
    "p5"
   ]
  },
  {
   "cell_type": "code",
   "execution_count": 100,
   "metadata": {},
   "outputs": [
    {
     "output_type": "execute_result",
     "data": {
      "text/plain": [
       "['Hola', 'que', 'tal', 'estás']"
      ]
     },
     "metadata": {},
     "execution_count": 100
    }
   ],
   "source": [
    "\"Hola que tal estás\".split(\" \")"
   ]
  },
  {
   "cell_type": "code",
   "execution_count": 101,
   "metadata": {},
   "outputs": [
    {
     "output_type": "stream",
     "name": "stdout",
     "text": [
      "['10', '25', '34', '36', '71', '82', '91']\n('10', '25', '34', '36', '71', '82', '91')\n"
     ]
    }
   ],
   "source": [
    "numeros = input(\"Escribe número separados por coma: \")\n",
    "numL = numeros.split(\",\")\n",
    "print(numL)\n",
    "numT = tuple(numL)\n",
    "print(numT)"
   ]
  },
  {
   "cell_type": "code",
   "execution_count": 102,
   "metadata": {},
   "outputs": [
    {
     "output_type": "stream",
     "name": "stdout",
     "text": [
      "49.857142857142854\n"
     ]
    }
   ],
   "source": [
    "suma = 0\n",
    "for n in numT:\n",
    "    suma += int(n)\n",
    "\n",
    "print( suma/len(numT) )"
   ]
  },
  {
   "source": [
    "# Diccionario\n",
    "Colección no ordenada de pares de valores: claves <-> valores. Se indexa no por posición, si no utilizando las claves"
   ],
   "cell_type": "markdown",
   "metadata": {}
  },
  {
   "cell_type": "code",
   "execution_count": 103,
   "metadata": {},
   "outputs": [
    {
     "output_type": "stream",
     "name": "stdout",
     "text": [
      "Hola Juan Rojas\n"
     ]
    }
   ],
   "source": [
    "nombre = \"Juan Rojas\"\n",
    "print(\"Hola %s\" %nombre)"
   ]
  },
  {
   "cell_type": "code",
   "execution_count": 104,
   "metadata": {},
   "outputs": [
    {
     "output_type": "stream",
     "name": "stdout",
     "text": [
      "Estos son los números primos: [2, 3, 5, 7, 11, 13, 17]\n"
     ]
    }
   ],
   "source": [
    "print(\"Estos son los números primos: %s\" %primos)"
   ]
  },
  {
   "cell_type": "code",
   "execution_count": 105,
   "metadata": {},
   "outputs": [
    {
     "output_type": "stream",
     "name": "stdout",
     "text": [
      "Esto es un número decimal: 50\n"
     ]
    }
   ],
   "source": [
    "media = suma/len(numT)\n",
    "print(\"Esto es un número decimal: %.0f\" %media)"
   ]
  },
  {
   "cell_type": "code",
   "execution_count": 106,
   "metadata": {},
   "outputs": [],
   "source": [
    "edad = {\n",
    "    \"Juan\": 30,\n",
    "    \"María\": 20,\n",
    "    \"Ricardo\": 53,\n",
    "    \"Antonio\": 45\n",
    "}"
   ]
  },
  {
   "cell_type": "code",
   "execution_count": 107,
   "metadata": {},
   "outputs": [
    {
     "output_type": "execute_result",
     "data": {
      "text/plain": [
       "53"
      ]
     },
     "metadata": {},
     "execution_count": 107
    }
   ],
   "source": [
    "edad[\"Ricardo\"]"
   ]
  },
  {
   "cell_type": "code",
   "execution_count": 108,
   "metadata": {},
   "outputs": [
    {
     "output_type": "execute_result",
     "data": {
      "text/plain": [
       "{'Juan': 30, 'María': 20, 'Ricardo': 52, 'Antonio': 45}"
      ]
     },
     "metadata": {},
     "execution_count": 108
    }
   ],
   "source": [
    "edad[\"Ricardo\"] = 52\n",
    "edad"
   ]
  },
  {
   "cell_type": "code",
   "execution_count": 109,
   "metadata": {},
   "outputs": [
    {
     "output_type": "execute_result",
     "data": {
      "text/plain": [
       "dict_keys(['Juan', 'María', 'Ricardo', 'Antonio'])"
      ]
     },
     "metadata": {},
     "execution_count": 109
    }
   ],
   "source": [
    "edad.keys() # Obtiene solo las claves"
   ]
  },
  {
   "cell_type": "code",
   "execution_count": 110,
   "metadata": {},
   "outputs": [
    {
     "output_type": "execute_result",
     "data": {
      "text/plain": [
       "dict_values([30, 20, 52, 45])"
      ]
     },
     "metadata": {},
     "execution_count": 110
    }
   ],
   "source": [
    "edad.values() # Obtiene solo los valores"
   ]
  },
  {
   "cell_type": "code",
   "execution_count": 111,
   "metadata": {},
   "outputs": [
    {
     "output_type": "execute_result",
     "data": {
      "text/plain": [
       "4"
      ]
     },
     "metadata": {},
     "execution_count": 111
    }
   ],
   "source": [
    "len(edad)"
   ]
  },
  {
   "cell_type": "code",
   "execution_count": 112,
   "metadata": {},
   "outputs": [
    {
     "output_type": "execute_result",
     "data": {
      "text/plain": [
       "True"
      ]
     },
     "metadata": {},
     "execution_count": 112
    }
   ],
   "source": [
    "\"María\" in edad     # Está en el diccionario"
   ]
  },
  {
   "cell_type": "code",
   "execution_count": 113,
   "metadata": {},
   "outputs": [
    {
     "output_type": "execute_result",
     "data": {
      "text/plain": [
       "True"
      ]
     },
     "metadata": {},
     "execution_count": 113
    }
   ],
   "source": [
    "\"Pepe\" not in edad     # No está en el diccionario"
   ]
  },
  {
   "cell_type": "code",
   "execution_count": 114,
   "metadata": {},
   "outputs": [],
   "source": [
    "del edad[\"Antonio\"]"
   ]
  },
  {
   "cell_type": "code",
   "execution_count": 115,
   "metadata": {},
   "outputs": [
    {
     "output_type": "execute_result",
     "data": {
      "text/plain": [
       "{'Juan': 30, 'María': 20, 'Ricardo': 52}"
      ]
     },
     "metadata": {},
     "execution_count": 115
    }
   ],
   "source": [
    "edad"
   ]
  },
  {
   "cell_type": "code",
   "execution_count": 116,
   "metadata": {},
   "outputs": [
    {
     "output_type": "execute_result",
     "data": {
      "text/plain": [
       "{'Alumno1': 5.6, 'Alumno2': 7.5, 'Alumno3': 10, 'Alumno4': False}"
      ]
     },
     "metadata": {},
     "execution_count": 116
    }
   ],
   "source": [
    "notas = {\n",
    "    \"Alumno1\": 5.6,\n",
    "    \"Alumno2\": 7.5,\n",
    "    \"Alumno3\": 10,\n",
    "    \"Alumno4\": False,\n",
    "}\n",
    "notas"
   ]
  },
  {
   "cell_type": "code",
   "execution_count": null,
   "metadata": {},
   "outputs": [],
   "source": []
  }
 ]
}