{
 "metadata": {
  "language_info": {
   "codemirror_mode": {
    "name": "ipython",
    "version": 3
   },
   "file_extension": ".py",
   "mimetype": "text/x-python",
   "name": "python",
   "nbconvert_exporter": "python",
   "pygments_lexer": "ipython3",
   "version": "3.9.2-final"
  },
  "orig_nbformat": 2,
  "kernelspec": {
   "name": "python3",
   "display_name": "Python 3.9.2 64-bit",
   "metadata": {
    "interpreter": {
     "hash": "74370f5c003b891a364185c017133575b60922bef3ec5886167c351f100e6443"
    }
   }
  }
 },
 "nbformat": 4,
 "nbformat_minor": 2,
 "cells": [
  {
   "cell_type": "code",
   "execution_count": 6,
   "metadata": {},
   "outputs": [],
   "source": [
    "import math"
   ]
  },
  {
   "cell_type": "code",
   "execution_count": 25,
   "metadata": {},
   "outputs": [
    {
     "output_type": "execute_result",
     "data": {
      "text/plain": [
       "'Negativo'"
      ]
     },
     "metadata": {},
     "execution_count": 25
    }
   ],
   "source": [
    "# 1) Escribe una secuencia de instrucciones que permitan leer un número real por pantalla y que muestre si el número es positivo o no.\n",
    "\n",
    "def es_positivo():\n",
    "    num = int(input(\"Por favor ingrese un número real: \"))\n",
    "    if( num >= 0 ):\n",
    "        return \"Positivo\"\n",
    "    else:\n",
    "        return \"Negativo\"\n",
    "es_positivo()"
   ]
  },
  {
   "cell_type": "code",
   "execution_count": 30,
   "metadata": {},
   "outputs": [
    {
     "output_type": "execute_result",
     "data": {
      "text/plain": [
       "'No está en el rango entre -5 y 5'"
      ]
     },
     "metadata": {},
     "execution_count": 30
    }
   ],
   "source": [
    "# 2) Escribe una secuencia de instrucciones que permitan leer un número real por pantalla y que muestre si el número está en el rango entre -5 y 5\n",
    "\n",
    "def entre_rango():\n",
    "    num = int(input(\"Por favor ingrese un número real: \"))\n",
    "    if( num >= -5 and num <= 5 ):\n",
    "        return \"Está en el rango entre -5 y 5\"\n",
    "    else:\n",
    "        return \"No está en el rango entre -5 y 5\"\n",
    "entre_rango()"
   ]
  },
  {
   "cell_type": "code",
   "execution_count": 38,
   "metadata": {},
   "outputs": [
    {
     "output_type": "execute_result",
     "data": {
      "text/plain": [
       "'Está en el centro (0,0)'"
      ]
     },
     "metadata": {},
     "execution_count": 38
    }
   ],
   "source": [
    "# 3) Escribe una secuencia de instrucciones que permitan leer las coordenadas de un punto (x, y) e indique en cuál de los cuatro cuadrantes se encuentra dicho punto.\n",
    "def cual_cuadrante():\n",
    "    x = int(input(\"Por favor ingrese el eje x: \"))\n",
    "    y = int(input(\"Por favor ingrese el eje y: \"))\n",
    "    if( x>0 and y>0 ):\n",
    "        return \"Está en el primer cuadrante\"\n",
    "    elif( x<0 and y>0 ):\n",
    "        return \"Está en el segundo cuadrante\"\n",
    "    elif( x<0 and y<0 ):\n",
    "        return \"Está en el tercer cuadrante\"\n",
    "    elif( x>0 and y<0 ):\n",
    "        return \"Está en el cuarto cuadrante\"\n",
    "    else:\n",
    "        return \"Está en el centro (0,0)\"\n",
    "cual_cuadrante()"
   ]
  },
  {
   "cell_type": "code",
   "execution_count": 42,
   "metadata": {},
   "outputs": [
    {
     "output_type": "execute_result",
     "data": {
      "text/plain": [
       "'El cociente es: 2 y el resto es: 0'"
      ]
     },
     "metadata": {},
     "execution_count": 42
    }
   ],
   "source": [
    "# 4) Escribe una secuencia de instrucciones que permitan leer dos números enteros y muestre el cociente de la división entera y el resto.\n",
    "def cociente_resto():\n",
    "    x = int(input(\"Por favor ingrese el primer número: \"))\n",
    "    y = int(input(\"Por favor ingrese el segundo número: \"))\n",
    "    cociente = x//y\n",
    "    resto = x%y\n",
    "    return \"El cociente es: \"+str(cociente)+\" y el resto es: \"+str(resto)\n",
    "cociente_resto()"
   ]
  },
  {
   "cell_type": "code",
   "execution_count": null,
   "metadata": {},
   "outputs": [],
   "source": []
  },
  {
   "cell_type": "code",
   "execution_count": 41,
   "metadata": {},
   "outputs": [
    {
     "output_type": "execute_result",
     "data": {
      "text/plain": [
       "'No es cuadrado perfecto'"
      ]
     },
     "metadata": {},
     "execution_count": 41
    }
   ],
   "source": [
    "# 5) Escribe una secuencia de instrucciones que permitan leer un número entero es cuadrado perfecto o no (piensa la mejor forma de hacerlo con lo que has aprendido hasta ahora)\n",
    "def es_cuadrado_perfecto():\n",
    "    x = int(input(\"Por favor ingrese un número: \"))\n",
    "    if( math.sqrt(x).is_integer() ):\n",
    "        return \"Es cuadrado perfecto\"\n",
    "    else:\n",
    "        return \"No es cuadrado perfecto\"\n",
    "es_cuadrado_perfecto()"
   ]
  },
  {
   "cell_type": "code",
   "execution_count": 46,
   "metadata": {},
   "outputs": [
    {
     "output_type": "execute_result",
     "data": {
      "text/plain": [
       "'Es bisiesto'"
      ]
     },
     "metadata": {},
     "execution_count": 46
    }
   ],
   "source": [
    "# 6) Escribe una expresión que permita determinar si un número entero positivo puede corresponder a un año bisiesto o no. Se consideran años bisiestos aquellos cuyo número es divisible por cuatro excepto los años que son múltiplos de 100, a no ser que lo sean de 400 (por ejemplo el año 2000 fue bisiesto pero el 2100 no lo será).\n",
    "def es_bisiesto():\n",
    "    anho = int(input(\"Por favor ingrese un número: \"))\n",
    "    if( anho % 4 == 0 and anho % 100 != 0 or anho % 400 == 0 ):\n",
    "        return \"Es bisiesto\"\n",
    "    else:\n",
    "        return \"No es bisiesto\"\n",
    "es_bisiesto()"
   ]
  },
  {
   "cell_type": "code",
   "execution_count": 56,
   "metadata": {},
   "outputs": [
    {
     "output_type": "execute_result",
     "data": {
      "text/plain": [
       "'Es negra'"
      ]
     },
     "metadata": {},
     "execution_count": 56
    }
   ],
   "source": [
    "# 7) Busca la imagen de un tablero de ajedrez en Google y fíjate en la nomenclatura de las casillas. Escribe una expresión lea una letra y un número de teclado correspondiente a una casilla de un tablero de ajedrez y nos indique si esta casilla es negra o blanca.\n",
    "def es_negra_o_blanca():\n",
    "    letra = input(\"Por favor ingrese la letra: \")\n",
    "    num = int(input(\"Por favor ingrese el número: \"))\n",
    "    listaImpar = {\"a\",\"c\",\"e\",\"g\"}\n",
    "    listaPar = {\"b\",\"d\",\"f\",\"h\"}\n",
    "\n",
    "    if( letra.lower() in listaImpar ):\n",
    "        if( num % 2 != 0 ):\n",
    "            return \"Es negra\"\n",
    "        else:\n",
    "            return \"Es blanca\"\n",
    "    elif( letra.lower() in listaPar ):\n",
    "        if( num % 2 == 0 ):\n",
    "            return \"Es negra\"\n",
    "        else:\n",
    "            return \"Es blanca\"\n",
    "    else:\n",
    "        return \"Es inválida\"\n",
    "\n",
    "es_negra_o_blanca()"
   ]
  },
  {
   "cell_type": "code",
   "execution_count": null,
   "metadata": {},
   "outputs": [],
   "source": []
  }
 ]
}