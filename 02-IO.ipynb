{
 "metadata": {
  "language_info": {
   "codemirror_mode": {
    "name": "ipython",
    "version": 3
   },
   "file_extension": ".py",
   "mimetype": "text/x-python",
   "name": "python",
   "nbconvert_exporter": "python",
   "pygments_lexer": "ipython3",
   "version": "3.9.2-final"
  },
  "orig_nbformat": 2,
  "kernelspec": {
   "name": "python3",
   "display_name": "Python 3.9.2 64-bit",
   "metadata": {
    "interpreter": {
     "hash": "74370f5c003b891a364185c017133575b60922bef3ec5886167c351f100e6443"
    }
   }
  }
 },
 "nbformat": 4,
 "nbformat_minor": 2,
 "cells": [
  {
   "source": [
    "# Entrada y salida de datos"
   ],
   "cell_type": "markdown",
   "metadata": {}
  },
  {
   "cell_type": "code",
   "execution_count": 20,
   "metadata": {},
   "outputs": [
    {
     "output_type": "stream",
     "name": "stdout",
     "text": [
      "Python es un lenguaje no tipado, es decir, no se declara el tipo de variable\n"
     ]
    }
   ],
   "source": [
    "print(\"Python es un lenguaje no tipado, es decir, no se declara el tipo de variable\")"
   ]
  },
  {
   "cell_type": "code",
   "execution_count": 14,
   "metadata": {},
   "outputs": [],
   "source": [
    "x = 7"
   ]
  },
  {
   "cell_type": "code",
   "execution_count": 15,
   "metadata": {},
   "outputs": [
    {
     "output_type": "stream",
     "name": "stdout",
     "text": [
      "El valor de x es: 7\n"
     ]
    }
   ],
   "source": [
    "print(\"El valor de x es: \" + str(x))"
   ]
  },
  {
   "cell_type": "code",
   "execution_count": 16,
   "metadata": {},
   "outputs": [],
   "source": [
    "texto = input(\"Introduce el texto acá: \")\n",
    "print(texto)"
   ]
  },
  {
   "cell_type": "code",
   "execution_count": 19,
   "metadata": {},
   "outputs": [
    {
     "output_type": "stream",
     "name": "stdout",
     "text": [
      "X es un String ahora: texto\n"
     ]
    }
   ],
   "source": [
    "x = 'texto' #Variable x cambia a un String\n",
    "print(\"X es un String ahora: \" + x)"
   ]
  },
  {
   "source": [
    "## Operaciones de decisión"
   ],
   "cell_type": "markdown",
   "metadata": {}
  },
  {
   "cell_type": "code",
   "execution_count": 3,
   "metadata": {},
   "outputs": [
    {
     "output_type": "stream",
     "name": "stdout",
     "text": [
      "X es mayor o igual a 5\n"
     ]
    }
   ],
   "source": [
    "x = 5\n",
    "if( x >= 5 ):\n",
    "    print(\"X es mayor o igual a 5\")\n",
    "else:\n",
    "    print(\"X es menor a 5\")"
   ]
  },
  {
   "cell_type": "code",
   "execution_count": null,
   "metadata": {},
   "outputs": [],
   "source": []
  }
 ]
}